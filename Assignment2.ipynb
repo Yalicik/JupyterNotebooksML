{
 "cells": [
  {
   "cell_type": "markdown",
   "id": "af765905",
   "metadata": {},
   "source": [
    "## Yedihilal Introduction to Machine Learning Summer School 2023\n",
    "\n",
    "# Assignment 2\n",
    "#### Due date: 23.59 Sunday, Agust 13"
   ]
  },
  {
   "cell_type": "code",
   "execution_count": 1,
   "id": "a90110f7",
   "metadata": {
    "papermill": {
     "duration": 1.484057,
     "end_time": "2023-05-14T06:33:48.418278",
     "exception": false,
     "start_time": "2023-05-14T06:33:46.934221",
     "status": "completed"
    },
    "tags": []
   },
   "outputs": [],
   "source": [
    "# Name: Yusuf Ali   \n",
    "# Surname: Gundogdu"
   ]
  },
  {
   "cell_type": "code",
   "execution_count": 3,
   "id": "156be8fc",
   "metadata": {
    "papermill": {
     "duration": 0.053593,
     "end_time": "2023-05-14T06:33:48.497391",
     "exception": false,
     "start_time": "2023-05-14T06:33:48.443798",
     "status": "completed"
    },
    "tags": []
   },
   "outputs": [],
   "source": [
    "# This cell generates data used in Part 1 and 2. Please do not change here.\n",
    "import numpy as np\n",
    "import pandas as pd\n",
    "import matplotlib.pyplot as plt\n",
    "np.random.seed(0)\n",
    "\n",
    "def polynomial(values, coeffs):\n",
    "    # Coeffs are assumed to be in order 0, 1, ..., n-1\n",
    "    expanded = np.column_stack([coeffs[i] * (values ** i) for i in range(0, len(coeffs))])\n",
    "    return np.sum(expanded, axis=-1)\n",
    "\n",
    "def polynomial_data(coeffs, n_data=100, x_range=[-1, 1], eps=0.1):\n",
    "    x = np.random.uniform(x_range[0], x_range[1], n_data)\n",
    "    poly = polynomial(x, coeffs)\n",
    "    return x.reshape([-1, 1]), np.reshape(poly + eps * np.random.randn(n_data), [-1, 1])\n",
    "\n",
    "\n",
    "# 1 + 0.5 * x - 0.5 x^2 - 0.2 x^3 - 0.W1 x^4\n",
    "coeffs = [1, 0.5, -0.5, -0.2, -0.1]\n",
    "X, y = polynomial_data(coeffs, 100, [90, 110], 200)"
   ]
  },
  {
   "cell_type": "markdown",
   "id": "5677e098",
   "metadata": {
    "papermill": {
     "duration": 0.005519,
     "end_time": "2023-05-14T06:33:49.706771",
     "exception": false,
     "start_time": "2023-05-14T06:33:49.701252",
     "status": "completed"
    },
    "tags": []
   },
   "source": [
    "### Data Splitting\n",
    "\n",
    "Split data into training and test datasets with the test ratio of 33% and random_state=0 using Scikit-learn library"
   ]
  },
  {
   "cell_type": "code",
   "execution_count": 4,
   "id": "c97d0dce",
   "metadata": {},
   "outputs": [],
   "source": [
    "'''split_data = int(0.33 * len(X))\n",
    "training_data = np.array(X)[split_data:]\n",
    "test_data = np.array(X)[:split_data]\n",
    "y_split_data = int(0.33 * len(y))\n",
    "y_training_data = np.array(y)[split_data:]\n",
    "y_test_data = np.array(y)[:split_data]'''\n",
    "from sklearn.preprocessing import StandardScaler\n",
    "from sklearn.model_selection import train_test_split\n",
    "X_train, X_test, y_train, y_test = train_test_split(X, y, test_size=0.33, random_state=0)\n",
    "\n"
   ]
  },
  {
   "cell_type": "code",
   "execution_count": 5,
   "id": "26b9cfc8-8a03-4a6f-8dc3-61f6d1771234",
   "metadata": {},
   "outputs": [
    {
     "data": {
      "text/plain": [
       "(100.46310135440625, 97.41090570544898, -10589212.35646485, -9366686.73739685)"
      ]
     },
     "execution_count": 5,
     "metadata": {},
     "output_type": "execute_result"
    }
   ],
   "source": [
    "X_train.mean(), X_test.mean(), y_train.mean(), y_test.mean()"
   ]
  },
  {
   "cell_type": "markdown",
   "id": "52b9e6e1",
   "metadata": {
    "papermill": {
     "duration": 0.006615,
     "end_time": "2023-05-14T06:33:49.743474",
     "exception": false,
     "start_time": "2023-05-14T06:33:49.736859",
     "status": "completed"
    },
    "tags": []
   },
   "source": [
    "### Data Preprocessing: Scaling\n",
    "\n",
    "Transform the data to have zero mean and unit variance."
   ]
  },
  {
   "cell_type": "code",
   "execution_count": 6,
   "id": "14e6ad85",
   "metadata": {
    "papermill": {
     "duration": 0.017236,
     "end_time": "2023-05-14T06:33:49.766887",
     "exception": false,
     "start_time": "2023-05-14T06:33:49.749651",
     "status": "completed"
    },
    "tags": []
   },
   "outputs": [],
   "source": [
    "'''X -= X.mean()\n",
    "X /= X.std()\n",
    "y -= y.mean()\n",
    "y /= y.std()\n",
    "training_data -= training_data.mean()\n",
    "training_data /= training_data.std()\n",
    "test_data -= test_data.mean()\n",
    "test_data /= test_data.std()\n",
    "y_training_data -= y_training_data.mean()\n",
    "y_training_data /= y_training_data.std()\n",
    "y_test_data -= y_test_data.mean()\n",
    "y_test_data /= y_test_data.std()\n",
    "plt.scatter(X, y)'''\n",
    "scaler = StandardScaler()\n",
    "scaler.fit(X_train)\n",
    "def data_scaler(data,scale):\n",
    "    return scale.transform(data)\n",
    "\n",
    "X_train_scaled = data_scaler(X_train, scaler)\n",
    "X_test_scaled = data_scaler(X_test, scaler)\n",
    "\n",
    "scaler_y = StandardScaler()\n",
    "scaler_y.fit(y_train)\n",
    "\n",
    "y_train_scaled = data_scaler(y_train, scaler_y)\n",
    "y_test_scaled = data_scaler(y_test, scaler_y)"
   ]
  },
  {
   "cell_type": "code",
   "execution_count": 7,
   "id": "0fce280f-df7e-4d97-812b-86777c07c801",
   "metadata": {},
   "outputs": [
    {
     "data": {
      "text/plain": [
       "(1.5228282979559983e-15,\n",
       " -0.5392418271799311,\n",
       " -1.5518266605394912e-15,\n",
       " 0.5270672005653707)"
      ]
     },
     "execution_count": 7,
     "metadata": {},
     "output_type": "execute_result"
    }
   ],
   "source": [
    "X_train_scaled.mean(),X_test_scaled.mean(),y_train_scaled.mean(), y_test_scaled.mean()"
   ]
  },
  {
   "cell_type": "markdown",
   "id": "d86061e6",
   "metadata": {
    "papermill": {
     "duration": 0.005587,
     "end_time": "2023-05-14T06:33:49.778384",
     "exception": false,
     "start_time": "2023-05-14T06:33:49.772797",
     "status": "completed"
    },
    "tags": []
   },
   "source": [
    "## Linear Regression Model Implementation with Gradient Descent"
   ]
  },
  {
   "cell_type": "markdown",
   "id": "54f95968",
   "metadata": {
    "papermill": {
     "duration": 0.006342,
     "end_time": "2023-05-14T06:33:49.790614",
     "exception": false,
     "start_time": "2023-05-14T06:33:49.784272",
     "status": "completed"
    },
    "tags": []
   },
   "source": [
    "The model function for linear regression, which is a function that maps from `x` to `y` is represented as:\n",
    "**$$f_{w,b}(x) = wx + b$$**\n",
    " To train a linear regression model, We want to find the best $(w,b)$ parameters that fit our dataset.\n",
    " \n",
    "## Forward Pass\n",
    "The forward method computes the linear regression output for the input data X using the current weights and biases.\n",
    "\n",
    "## Loss (Cost) Function\n",
    "The loss function is used to evaluate the performance of the model. The compute_loss method computes the loss of the linear regression model using the predicted values and actual values. The loss function is given by:\n",
    "\n",
    "$$J(w,b) = \\frac{1}{2m} \\sum_{i=1}^{m}(f_{w,b}(x^{(i)}) - y^{(i)})^2$$\n",
    "\n",
    "where m is the number of training examples, x is the input data, y is the actual output, and w and b are the weights and biases respectively.\n",
    "\n",
    "## Backward Pass\n",
    "The backward method computes the gradients of the weights and biases using the predicted values and actual values. The gradients are used to update the weights and biases during training.\n",
    "\n",
    "$$\n",
    "\\frac{\\partial J(w,b)}{\\partial b}^{}  = \\frac{1}{m} \\sum\\limits_{i = 0}^{m-1} \\ (f_{w,b}(X^{}) - y^{}) \n",
    "$$\n",
    "$$\n",
    "\\frac{\\partial J(w,b)}{\\partial w}^{}  =  \\frac{1}{m} \\sum\\limits_{i = 0}^{m-1}\\ (f_{w,b}(X^{}) -y^{})X^{} \n",
    "$$\n",
    "\n",
    "## Training\n",
    "The fit method trains the linear regression model for the specified number of iterations using the input data X and actual values y. The method computes the forward pass, computes the cost function, computes the backward pass, and updates the weights and biases. Optionally, it plots the cost function for each iteration. Where updating parameter equations are given by:\n",
    " \n",
    "$$W \\leftarrow W - \\alpha \\frac{\\partial J}{\\partial W}$$\n",
    "$$b \\leftarrow b - \\alpha \\frac{\\partial J}{\\partial b}$$\n",
    "\n"
   ]
  },
  {
   "cell_type": "code",
   "execution_count": 8,
   "id": "cb49c079-447c-42cd-95af-214df9390f8c",
   "metadata": {},
   "outputs": [
    {
     "data": {
      "text/plain": [
       "(67, 1)"
      ]
     },
     "execution_count": 8,
     "metadata": {},
     "output_type": "execute_result"
    }
   ],
   "source": [
    "X_train_scaled.shape"
   ]
  },
  {
   "cell_type": "code",
   "execution_count": 9,
   "id": "1ced97f0",
   "metadata": {
    "papermill": {
     "duration": 0.028078,
     "end_time": "2023-05-14T06:33:49.824633",
     "exception": false,
     "start_time": "2023-05-14T06:33:49.796555",
     "status": "completed"
    },
    "tags": []
   },
   "outputs": [],
   "source": [
    "class LRwithGradientDecent:\n",
    "    def __init__(self, lr):\n",
    "        \"\"\"\n",
    "        Initializes the class instance with the specified learning rate\n",
    "\n",
    "        Parameters:\n",
    "            lr (float): The learning rate used in gradient descent.\n",
    "        \"\"\"\n",
    "        # TODO: Your code here\n",
    "        self.lr = float(lr)\n",
    "        \n",
    "    def initialize_parameters(self):\n",
    "        if self.X.ndim ==1:\n",
    "             self.W = 0\n",
    "        else:\n",
    "            self.W = self.W = np.random.randn(self.X.shape[-1]) * np.sqrt(2 / (self.X.shape[-1] + 1))\n",
    "\n",
    "        self.b = 0\n",
    "        \n",
    "    def forward(self, X):\n",
    "        \"\"\"\n",
    "        Computes the linear regression output for the input data `X` using the current weights and biases.\n",
    "\n",
    "        Parameters:\n",
    "            X (numpy array): The input data.\n",
    "\n",
    "        Returns:\n",
    "            Z (numpy array): The output of the linear regression model.\n",
    "        \"\"\"\n",
    "\n",
    "        # TODO: Your code here\n",
    "        Z = np.dot(X,self.W) + self.b\n",
    "        Z = Z.reshape(-1, 1)\n",
    "        return Z\n",
    "    \n",
    "    def compute_loss(self, preds, y):\n",
    "        \"\"\"\n",
    "        Computes the loss of the linear regression model using the predicted values and actual values.\n",
    "\n",
    "        Parameters:\n",
    "            preds (numpy array): The predicted values.\n",
    "            y (numpy array): The actual values.\n",
    "\n",
    "        Returns:\n",
    "            loss (float): The loss of the linear regression model.\n",
    "        \"\"\"\n",
    "\n",
    "        # TODO: Your code here\n",
    "        loss = np.sum((preds - y) ** 2) / len(self.y)\n",
    "        return loss\n",
    "\n",
    "    def backward(self, preds):\n",
    "        \"\"\"\n",
    "        Computes the gradients of the weights and biases using the predicted values and actual values for self.X\n",
    "\n",
    "        Parameters:\n",
    "            preds (numpy array): The predicted values.\n",
    "        \"\"\"\n",
    "\n",
    "        # TODO: Complete the following statements (and delete the comment symbols).\n",
    "        self.db = 1/len(self.y) * np.sum(preds - self.y)\n",
    "        self.dW = 1/len(self.y) * np.sum((preds - self.y) * self.X)\n",
    "    \n",
    "    def update(self):\n",
    "        \"\"\"\n",
    "        Updates self.W and self.b based on the current gradient values\n",
    "        \"\"\"\n",
    "        # TODO: Your code here\n",
    "        self.W -= self.lr * self.dW\n",
    "        self.b -= self.lr * self.db\n",
    "\n",
    "    def fit(self, X, y, n_iter, plot_cost=True):\n",
    "        \"\"\"\n",
    "        Trains the linear regression model for the specified number of iterations using the input data `X` and actual values `y`. \n",
    "        Optionally, plots the cost function for each iteration.\n",
    "\n",
    "        Parameters:\n",
    "            X (numpy array): The input data.\n",
    "            y (numpy array): The actual values.\n",
    "            n_iter (int): The number of iterations to train the model for.\n",
    "            plot_cost (bool, optional): Whether to plot the cost function for each iteration. Defaults to True.\n",
    "        \"\"\"\n",
    "        loss_values = []       \n",
    "        self.X = X\n",
    "        self.y = y\n",
    "        self.initialize_parameters()\n",
    "        \n",
    "\n",
    "        # TODO: Implement the following.\n",
    "        \n",
    "        # repeat the following process n_iter times\n",
    "            \n",
    "        #1) apply forward pass\n",
    "        \n",
    "        #2) calculate the loss at the current iterations and append it to loss_values\n",
    "        \n",
    "        #3) apply backward pass\n",
    "\n",
    "        #4) update the parameters\n",
    "\n",
    "        #5) print the cost at each 100 iteration\n",
    "\n",
    "        \n",
    "        #visualize loss_values using a line plot after the training\n",
    "\n",
    "        # TODO: Your code here\n",
    "        for i in range(n_iter):\n",
    "            y_forward = self.forward(X)\n",
    "            loss = self.compute_loss(y_forward, y)\n",
    "            loss_values.append(loss)\n",
    "            self.backward(y_forward)\n",
    "            self.update()\n",
    "            \n",
    "            if (i + 1) % 100 == 0:\n",
    "                print(loss)\n",
    "        plt.plot(range(len(loss_values)), loss_values, marker='o')\n",
    "\n",
    "    def predict(self, X):\n",
    "        \"\"\"\n",
    "        Computes the predicted values for the input data `X` using the current weights and biases.\n",
    "\n",
    "        Parameters:\n",
    "            X (numpy array): The input data.\n",
    "\n",
    "        Returns:\n",
    "            preds (numpy array): The predicted values for the input data X.\n",
    "        \"\"\"\n",
    "     \n",
    "        # TODO: Your code here\n",
    "        preds = np.dot(X,self.W) + self.b\n",
    "        preds = preds.reshape(-1, 1)\n",
    "        return preds"
   ]
  },
  {
   "cell_type": "markdown",
   "id": "5f38a153",
   "metadata": {},
   "source": [
    "### Training Linear Regression with Gradient Descent\n",
    "\n",
    "Fit a linear regressor using LRwithGradientDecent class on the training dataset\n",
    "\n",
    "Try a list of lr (at most 0.1) and a list of num_iter values (num_iter=2000 at most) for the training."
   ]
  },
  {
   "cell_type": "code",
   "execution_count": 10,
   "id": "fb62437d",
   "metadata": {
    "papermill": {
     "duration": 0.427732,
     "end_time": "2023-05-14T06:33:50.258293",
     "exception": false,
     "start_time": "2023-05-14T06:33:49.830561",
     "status": "completed"
    },
    "tags": []
   },
   "outputs": [
    {
     "name": "stdout",
     "output_type": "stream",
     "text": [
      "0.006341591041820827\n",
      "0.006341590681897927\n",
      "0.0063415906818979255\n",
      "0.006341590681897926\n",
      "0.006341590681897926\n",
      "0.006341590681897926\n",
      "0.006341590681897926\n",
      "0.006341590681897926\n",
      "0.0063415906818979255\n",
      "0.006341590681897926\n",
      "0.006341590681897926\n",
      "0.006341590681897926\n",
      "0.006341590681897926\n",
      "0.0063415906818979255\n",
      "0.006341590681897926\n",
      "0.006341590681897926\n",
      "0.006341590681897926\n",
      "0.006341590681897926\n",
      "0.0063415906818979255\n",
      "0.006341590681897926\n"
     ]
    },
    {
     "data": {
      "image/png": "[encoded data removed]",
      "text/plain": [
       "<Figure size 640x480 with 1 Axes>"
      ]
     },
     "metadata": {},
     "output_type": "display_data"
    }
   ],
   "source": [
    "# TODO: Your code here\n",
    "s = LRwithGradientDecent(0.1)\n",
    "s_fitted = s.fit(X_train_scaled, y_train_scaled, 2000)"
   ]
  },
  {
   "cell_type": "markdown",
   "id": "84b53cde",
   "metadata": {
    "papermill": {
     "duration": 0.008447,
     "end_time": "2023-05-14T06:33:50.276002",
     "exception": false,
     "start_time": "2023-05-14T06:33:50.267555",
     "status": "completed"
    },
    "tags": []
   },
   "source": [
    "### Evaluation\n",
    "\n",
    "Evaluate the model on the training data and test data"
   ]
  },
  {
   "cell_type": "code",
   "execution_count": 11,
   "id": "461dfa44",
   "metadata": {},
   "outputs": [
    {
     "name": "stdout",
     "output_type": "stream",
     "text": [
      "0.006341590681897926\n"
     ]
    }
   ],
   "source": [
    "# TODO: Your code here\n",
    "def evaluate_data():\n",
    "    Z = s.forward(X_train_scaled)\n",
    "    return np.mean((Z - y_train_scaled) ** 2)\n",
    "print(evaluate_data())\n",
    "#s.fit(training_data, test_data, 2000)"
   ]
  },
  {
   "cell_type": "markdown",
   "id": "47be40d2",
   "metadata": {},
   "source": [
    "### Scikit-learn Linear Regression\n",
    "\n",
    "Train a linear regressor using sklearn library and compare its performance with your LinearRegression."
   ]
  },
  {
   "cell_type": "code",
   "execution_count": 12,
   "id": "3919eeed",
   "metadata": {},
   "outputs": [
    {
     "data": {
      "text/plain": [
       "('LRwithGradientDecent mean square error: ',\n",
       " 0.006748592478078698,\n",
       " 'Sklearn mean square error: ',\n",
       " 0.006748592478078747)"
      ]
     },
     "execution_count": 12,
     "metadata": {},
     "output_type": "execute_result"
    }
   ],
   "source": [
    "# TODO: Your code here\n",
    "from sklearn.linear_model import LinearRegression\n",
    "from sklearn.metrics import mean_squared_error\n",
    "linear_model_fit = LinearRegression().fit(X_train_scaled, y_train_scaled)\n",
    "\n",
    "sckit_linear_model = linear_model_fit.predict(X_test_scaled)\n",
    "custom_linear_model = s.predict(X_test_scaled)\n",
    "\n",
    "mse_sckit_linear = mean_squared_error(sckit_linear_model, y_test_scaled)\n",
    "mse_custom_linear = mean_squared_error(y_test_scaled,custom_linear_model)\n",
    "\"LRwithGradientDecent mean square error: \",mse_custom_linear,\"Sklearn mean square error: \",mse_sckit_linear"
   ]
  },
  {
   "cell_type": "code",
   "execution_count": 13,
   "id": "2cba85ba-04ae-4183-8261-908cf969e81f",
   "metadata": {},
   "outputs": [
    {
     "data": {
      "text/plain": [
       "(-4.398152618445079, 0.992428552032752)"
      ]
     },
     "execution_count": 13,
     "metadata": {},
     "output_type": "execute_result"
    }
   ],
   "source": [
    "linear_model_fit.score(custom_linear_model, y_test_scaled), linear_model_fit.score(-sckit_linear_model,y_test_scaled)"
   ]
  },
  {
   "cell_type": "markdown",
   "id": "5ede33f7",
   "metadata": {},
   "source": [
    "### Visualization\n",
    "\n",
    "Plot the training data (scatter plot) and the fitted lines by LRwithGradientDecent and LinearRegression (with different colored line plots) in a single figure."
   ]
  },
  {
   "cell_type": "code",
   "execution_count": 14,
   "id": "37072b39",
   "metadata": {},
   "outputs": [
    {
     "data": {
      "image/png": "[encoded data removed]",
      "text/plain": [
       "<Figure size 640x480 with 1 Axes>"
      ]
     },
     "metadata": {},
     "output_type": "display_data"
    }
   ],
   "source": [
    "# TODO: Your code here\n",
    "#y_LRwithGradientDecent = s.fit(X, y, 2000)\n",
    "#sckit_linear_train = linear.predict(X_train_scaled)\n",
    "#custom_linear_train = s.predict(X_train_scaled)\n",
    "plt.scatter(X_train_scaled,y_train_scaled)\n",
    "plt.plot(X_test_scaled, custom_linear_model, color =\"green\",label = \"LRwithGradientDecent model\",linestyle = \"dashed\")\n",
    "plt.plot(X_test_scaled,sckit_linear_model, color = \"Red\", label = \"LinearRegression model\",linestyle = \"dotted\", alpha=0.7)\n",
    "plt.legend()\n",
    "#plt.plot(X, y)\n",
    "plt.show()"
   ]
  },
  {
   "cell_type": "markdown",
   "id": "645aa078",
   "metadata": {},
   "source": [
    "\n",
    "Plot the test data (scatter plot) and the fitted lines by LRwithGradientDecent and LinearRegression (with different colored line plots) in a single figure."
   ]
  },
  {
   "cell_type": "code",
   "execution_count": 15,
   "id": "ebbd9957",
   "metadata": {},
   "outputs": [
    {
     "data": {
      "image/png": "[encoded data removed]",
      "text/plain": [
       "<Figure size 640x480 with 1 Axes>"
      ]
     },
     "metadata": {},
     "output_type": "display_data"
    }
   ],
   "source": [
    "# TODO: Your code here\n",
    "plt.scatter(X_test_scaled, y_test_scaled)\n",
    "plt.plot(X_test_scaled,custom_linear_model, color =\"blue\")\n",
    "plt.plot(X_test_scaled, sckit_linear_model, color = \"Red\")\n",
    "#plt.plot(X, y_LRwithGradientDecent)\n",
    "plt.show()"
   ]
  },
  {
   "cell_type": "markdown",
   "id": "a1cd1bc4",
   "metadata": {},
   "source": [
    "## Part 2: Polynomial Regression\n",
    "\n",
    "Fit 2-degree, 4-degree, 8-degree polynomial regression models using only Scikit-learn library."
   ]
  },
  {
   "cell_type": "code",
   "execution_count": 16,
   "id": "36d45f93",
   "metadata": {},
   "outputs": [],
   "source": [
    "from sklearn.preprocessing import PolynomialFeatures\n",
    "linear = LinearRegression()\n",
    "def polynomial_regression(i):\n",
    "    poly_func = PolynomialFeatures(i)\n",
    "    poly_func.fit(X_train_scaled)\n",
    "    X_poly = poly_func.transform(X_train_scaled)\n",
    "    X_poly_test = poly_func.transform(X_test_scaled)\n",
    "    linear.fit(X_poly,y_train_scaled)\n",
    "    Z = linear.predict(X_poly_test)\n",
    "    return Z\n",
    "poly_reg_two = polynomial_regression(2)\n",
    "poly_reg_four = polynomial_regression(4)\n",
    "poly_reg_eight = polynomial_regression(8)"
   ]
  },
  {
   "cell_type": "markdown",
   "id": "c673fea8",
   "metadata": {},
   "source": [
    "Evaluate the models on the training data and test data and write a comment which is the best model."
   ]
  },
  {
   "cell_type": "code",
   "execution_count": 17,
   "id": "cc1193c1",
   "metadata": {},
   "outputs": [
    {
     "data": {
      "text/plain": [
       "(8.169239087398448e-06, 7.741163840389164e-09, 7.91624039265234e-09)"
      ]
     },
     "execution_count": 17,
     "metadata": {},
     "output_type": "execute_result"
    }
   ],
   "source": [
    "loss_two = mean_squared_error(poly_reg_two, y_test_scaled)\n",
    "loss_four = mean_squared_error(poly_reg_four, y_test_scaled)\n",
    "loss_eight = mean_squared_error(poly_reg_eight, y_test_scaled)\n",
    "loss_two, loss_four, loss_eight\n",
    "#four degree polynomial contains the smallest loss. So is the best one "
   ]
  },
  {
   "cell_type": "markdown",
   "id": "5fb5dff2",
   "metadata": {},
   "source": [
    "Visualize the test data (scatter plot) and the predictions of three polynomial models (different colored line plots) in a single figure."
   ]
  },
  {
   "cell_type": "code",
   "execution_count": 18,
   "id": "20b35bd3",
   "metadata": {},
   "outputs": [
    {
     "data": {
      "image/png": "[encoded data removed]",
      "text/plain": [
       "<Figure size 640x480 with 1 Axes>"
      ]
     },
     "metadata": {},
     "output_type": "display_data"
    }
   ],
   "source": [
    "plt.scatter(X_train_scaled,y_train_scaled, color = \"red\")\n",
    "plt.scatter(poly_reg_two,X_test_scaled, color = \"blue\")\n",
    "plt.scatter(poly_reg_four,X_test_scaled, color = \"purple\")\n",
    "plt.scatter(poly_reg_eight,X_test_scaled)\n",
    "plt.show()"
   ]
  },
  {
   "cell_type": "markdown",
   "id": "6da9f432",
   "metadata": {},
   "source": [
    "## Part 3: Regularized Linear Regression\n"
   ]
  },
  {
   "cell_type": "code",
   "execution_count": 19,
   "id": "0cfe1092-3cd3-43d6-b3dc-bfd1e2cac28c",
   "metadata": {},
   "outputs": [],
   "source": [
    "#data_Xy = np.hstack((X, y))\n",
    "#data_Xy = pd.DataFrame(data_Xy, columns=[\"X\", \"y\"])\n",
    "#data_Xy.to_csv(\"data.csv\",index = False)"
   ]
  },
  {
   "cell_type": "markdown",
   "id": "594ee5e3",
   "metadata": {},
   "source": [
    "Read 'data.csv'.\n",
    "\n",
    "Drop the column 'y' from the dataframe to obtain input data X.\n",
    "\n",
    "Get the column 'y' from the dataframe to obtain target data y.\n",
    "\n",
    "Split data (X,y) into training and test datasets with the test ratio of 25% and random_state=0 using Scikit-learn library.\n",
    "\n",
    "Transform the data to have zero mean and unit variance."
   ]
  },
  {
   "cell_type": "code",
   "execution_count": 58,
   "id": "5f2fb801",
   "metadata": {},
   "outputs": [],
   "source": [
    "# TODO: Your code here\n",
    "data_f = pd.read_csv('data.csv')\n",
    "data_f_X = data_f.drop(columns = [\"y\"])\n",
    "data_f_y = data_f[\"y\"]\n",
    "X_training, X_testing, y_training, y_testing = train_test_split(data_f_X, data_f_y, test_size=0.25, random_state=0)\n",
    "X_training_upd = StandardScaler().fit_transform(X_training)\n",
    "X_testing_upd = StandardScaler().fit_transform(X_testing)"
   ]
  },
  {
   "cell_type": "markdown",
   "id": "4f5dbb05",
   "metadata": {},
   "source": [
    "Train a Linear Regression model."
   ]
  },
  {
   "cell_type": "code",
   "execution_count": 54,
   "id": "a98f043d",
   "metadata": {},
   "outputs": [],
   "source": [
    "# TODO: Your code here\n",
    "linear_regression = LinearRegression()"
   ]
  },
  {
   "cell_type": "markdown",
   "id": "d5dd856c",
   "metadata": {},
   "source": [
    "Find the classes for linear regression models with L1 and L2 Loss on https://scikit-learn.org/stable/modules/classes.html#module-sklearn.linear_model and import them from sklearn. \n",
    "Please, read the class descriptions to learn class parameters and to accomplish this part correctly.\n",
    "\n",
    "Set the regularization constant for training L1 model to 0.01.\n",
    "\n",
    "Set the regularization constant for training L2 model to 0.7."
   ]
  },
  {
   "cell_type": "code",
   "execution_count": 66,
   "id": "844ccb55",
   "metadata": {},
   "outputs": [],
   "source": [
    "# TODO: Your code here\n",
    "from sklearn.linear_model import Lasso\n",
    "from sklearn.linear_model import Ridge\n",
    "from sklearn.linear_model import ElasticNet\n",
    "from sklearn.datasets import make_regression\n",
    "regr_elastic = ElasticNet(alpha=0.7, l1_ratio=0.01, max_iter=2000)\n",
    "regr_elastic.fit(X_training, y_training)\n",
    "regr_pred_elastic = regr_elastic.predict(X_testing)\n",
    "\n",
    "lasso_reg = Lasso(alpha=0.01,max_iter = 2000)\n",
    "lasso_reg.fit(X_training, y_training)\n",
    "y_pred_lasso = lasso_reg.predict(X_testing)\n",
    "\n",
    "ridge_reg = Ridge(alpha=0.7,max_iter=2000)\n",
    "ridge_reg.fit(X_training, y_training)\n",
    "y_pred_ridge = ridge_reg.predict(X_testing)"
   ]
  },
  {
   "cell_type": "markdown",
   "id": "6664524a",
   "metadata": {},
   "source": [
    "Import the corresponding function from Scikit-learn library for R-squared metric.\n",
    "\n",
    "Evaluate the performance of three models based on R-squared and comment which is the best model."
   ]
  },
  {
   "cell_type": "code",
   "execution_count": 67,
   "id": "7788dd04",
   "metadata": {},
   "outputs": [
    {
     "data": {
      "text/plain": [
       "(0.7616107422047248, 0.7658959948224928, 0.3084774565846603)"
      ]
     },
     "execution_count": 67,
     "metadata": {},
     "output_type": "execute_result"
    }
   ],
   "source": [
    "# TODO: Your code here\n",
    "from sklearn.metrics import r2_score\n",
    "r2_score(y_testing, y_pred_ridge),r2_score(y_testing, y_pred_lasso),r2_score(y_testing,regr_pred_elastic)\n",
    "#lasso is the best one"
   ]
  }
 ],
 "metadata": {
  "kernelspec": {
   "display_name": "Python 3 (ipykernel)",
   "language": "python",
   "name": "python3"
  },
  "language_info": {
   "codemirror_mode": {
    "name": "ipython",
    "version": 3
   },
   "file_extension": ".py",
   "mimetype": "text/x-python",
   "name": "python",
   "nbconvert_exporter": "python",
   "pygments_lexer": "ipython3",
   "version": "3.11.4"
  },
  "papermill": {
   "default_parameters": {},
   "duration": 14.380051,
   "end_time": "2023-05-14T06:33:51.172747",
   "environment_variables": {},
   "exception": null,
   "input_path": "__notebook__.ipynb",
   "output_path": "__notebook__.ipynb",
   "parameters": {},
   "start_time": "2023-05-14T06:33:36.792696",
   "version": "2.3.4"
  }
 },
 "nbformat": 4,
 "nbformat_minor": 5
}
